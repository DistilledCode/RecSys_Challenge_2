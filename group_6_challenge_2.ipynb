{
 "cells": [
  {
   "cell_type": "markdown",
   "metadata": {},
   "source": [
    "## Recommendation System\n",
    "## Challenge 2\n",
    "## Group 6\n",
    "* ### Vrishmi Parikh (202318013) \n",
    "* ### Mahmood Topiwala (202318030)\n",
    "* ### Anurag Shukla (202318039)\n",
    "* ### Tanaz Pathan (202318056)"
   ]
  },
  {
   "cell_type": "code",
   "execution_count": 1,
   "metadata": {},
   "outputs": [],
   "source": [
    "import pandas as pd\n",
    "import numpy as np\n",
    "import fastparquet\n",
    "import surprise\n",
    "from surprise.reader import Reader\n",
    "from surprise.dataset import DatasetAutoFolds\n",
    "from surprise.prediction_algorithms import SVD\n",
    "from surprise.model_selection import GridSearchCV\n",
    "from surprise.accuracy import fcp, mae, mse, rmse\n",
    "from surprise.prediction_algorithms.random_pred import NormalPredictor\n",
    "from surprise.prediction_algorithms.baseline_only import BaselineOnly"
   ]
  },
  {
   "cell_type": "code",
   "execution_count": 2,
   "metadata": {},
   "outputs": [],
   "source": [
    "from sklearn.model_selection import train_test_split"
   ]
  },
  {
   "cell_type": "code",
   "execution_count": 3,
   "metadata": {},
   "outputs": [],
   "source": [
    "songs = pd.read_csv(\"songs.csv\")\n",
    "train = pd.read_csv(\"train.csv\")\n",
    "test = pd.read_csv(\"test.csv\")"
   ]
  },
  {
   "cell_type": "code",
   "execution_count": 4,
   "metadata": {},
   "outputs": [
    {
     "data": {
      "text/plain": [
       "(7377418, 6)"
      ]
     },
     "execution_count": 4,
     "metadata": {},
     "output_type": "execute_result"
    }
   ],
   "source": [
    "train.shape"
   ]
  },
  {
   "cell_type": "code",
   "execution_count": 5,
   "metadata": {},
   "outputs": [
    {
     "data": {
      "text/plain": [
       "target\n",
       "False    7377418\n",
       "Name: count, dtype: int64"
      ]
     },
     "execution_count": 5,
     "metadata": {},
     "output_type": "execute_result"
    }
   ],
   "source": [
    "train[\"target\"].isna().value_counts()"
   ]
  },
  {
   "cell_type": "code",
   "execution_count": 6,
   "metadata": {},
   "outputs": [
    {
     "data": {
      "text/html": [
       "<div>\n",
       "<style scoped>\n",
       "    .dataframe tbody tr th:only-of-type {\n",
       "        vertical-align: middle;\n",
       "    }\n",
       "\n",
       "    .dataframe tbody tr th {\n",
       "        vertical-align: top;\n",
       "    }\n",
       "\n",
       "    .dataframe thead th {\n",
       "        text-align: right;\n",
       "    }\n",
       "</style>\n",
       "<table border=\"1\" class=\"dataframe\">\n",
       "  <thead>\n",
       "    <tr style=\"text-align: right;\">\n",
       "      <th></th>\n",
       "      <th>msno</th>\n",
       "      <th>song_id</th>\n",
       "      <th>source_system_tab</th>\n",
       "      <th>source_screen_name</th>\n",
       "      <th>source_type</th>\n",
       "      <th>target</th>\n",
       "    </tr>\n",
       "  </thead>\n",
       "  <tbody>\n",
       "    <tr>\n",
       "      <th>0</th>\n",
       "      <td>FGtllVqz18RPiwJj/edr2gV78zirAiY/9SmYvia+kCg=</td>\n",
       "      <td>BBzumQNXUHKdEBOB7mAJuzok+IJA1c2Ryg/yzTF6tik=</td>\n",
       "      <td>explore</td>\n",
       "      <td>Explore</td>\n",
       "      <td>online-playlist</td>\n",
       "      <td>1</td>\n",
       "    </tr>\n",
       "    <tr>\n",
       "      <th>1</th>\n",
       "      <td>Xumu+NIjS6QYVxDS4/t3SawvJ7viT9hPKXmf0RtLNx8=</td>\n",
       "      <td>bhp/MpSNoqoxOIB+/l8WPqu6jldth4DIpCm3ayXnJqM=</td>\n",
       "      <td>my library</td>\n",
       "      <td>Local playlist more</td>\n",
       "      <td>local-playlist</td>\n",
       "      <td>1</td>\n",
       "    </tr>\n",
       "    <tr>\n",
       "      <th>2</th>\n",
       "      <td>Xumu+NIjS6QYVxDS4/t3SawvJ7viT9hPKXmf0RtLNx8=</td>\n",
       "      <td>JNWfrrC7zNN7BdMpsISKa4Mw+xVJYNnxXh3/Epw7QgY=</td>\n",
       "      <td>my library</td>\n",
       "      <td>Local playlist more</td>\n",
       "      <td>local-playlist</td>\n",
       "      <td>1</td>\n",
       "    </tr>\n",
       "    <tr>\n",
       "      <th>3</th>\n",
       "      <td>Xumu+NIjS6QYVxDS4/t3SawvJ7viT9hPKXmf0RtLNx8=</td>\n",
       "      <td>2A87tzfnJTSWqD7gIZHisolhe4DMdzkbd6LzO1KHjNs=</td>\n",
       "      <td>my library</td>\n",
       "      <td>Local playlist more</td>\n",
       "      <td>local-playlist</td>\n",
       "      <td>1</td>\n",
       "    </tr>\n",
       "  </tbody>\n",
       "</table>\n",
       "</div>"
      ],
      "text/plain": [
       "                                           msno  \\\n",
       "0  FGtllVqz18RPiwJj/edr2gV78zirAiY/9SmYvia+kCg=   \n",
       "1  Xumu+NIjS6QYVxDS4/t3SawvJ7viT9hPKXmf0RtLNx8=   \n",
       "2  Xumu+NIjS6QYVxDS4/t3SawvJ7viT9hPKXmf0RtLNx8=   \n",
       "3  Xumu+NIjS6QYVxDS4/t3SawvJ7viT9hPKXmf0RtLNx8=   \n",
       "\n",
       "                                        song_id source_system_tab  \\\n",
       "0  BBzumQNXUHKdEBOB7mAJuzok+IJA1c2Ryg/yzTF6tik=           explore   \n",
       "1  bhp/MpSNoqoxOIB+/l8WPqu6jldth4DIpCm3ayXnJqM=        my library   \n",
       "2  JNWfrrC7zNN7BdMpsISKa4Mw+xVJYNnxXh3/Epw7QgY=        my library   \n",
       "3  2A87tzfnJTSWqD7gIZHisolhe4DMdzkbd6LzO1KHjNs=        my library   \n",
       "\n",
       "    source_screen_name      source_type  target  \n",
       "0              Explore  online-playlist       1  \n",
       "1  Local playlist more   local-playlist       1  \n",
       "2  Local playlist more   local-playlist       1  \n",
       "3  Local playlist more   local-playlist       1  "
      ]
     },
     "execution_count": 6,
     "metadata": {},
     "output_type": "execute_result"
    }
   ],
   "source": [
    "train.head(4)"
   ]
  },
  {
   "cell_type": "code",
   "execution_count": 7,
   "metadata": {},
   "outputs": [
    {
     "data": {
      "text/plain": [
       "(30755, 359966)"
      ]
     },
     "execution_count": 7,
     "metadata": {},
     "output_type": "execute_result"
    }
   ],
   "source": [
    "train['msno'].nunique(), train['song_id'].nunique()"
   ]
  },
  {
   "cell_type": "code",
   "execution_count": 8,
   "metadata": {},
   "outputs": [
    {
     "data": {
      "text/plain": [
       "count    30755.000000\n",
       "mean       239.877028\n",
       "std        314.130788\n",
       "min          1.000000\n",
       "25%         27.000000\n",
       "50%        128.000000\n",
       "75%        340.000000\n",
       "max       5819.000000\n",
       "Name: count, dtype: float64"
      ]
     },
     "execution_count": 8,
     "metadata": {},
     "output_type": "execute_result"
    }
   ],
   "source": [
    "train.groupby(\"msno\")['msno'].value_counts().describe()"
   ]
  },
  {
   "cell_type": "code",
   "execution_count": 9,
   "metadata": {},
   "outputs": [
    {
     "data": {
      "text/plain": [
       "count    359966.000000\n",
       "mean         20.494763\n",
       "std         182.237223\n",
       "min           1.000000\n",
       "25%           1.000000\n",
       "50%           2.000000\n",
       "75%           5.000000\n",
       "max       13973.000000\n",
       "Name: count, dtype: float64"
      ]
     },
     "execution_count": 9,
     "metadata": {},
     "output_type": "execute_result"
    }
   ],
   "source": [
    "train.groupby(\"song_id\")['song_id'].value_counts().describe()"
   ]
  },
  {
   "cell_type": "code",
   "execution_count": 10,
   "metadata": {},
   "outputs": [
    {
     "name": "stdout",
     "output_type": "stream",
     "text": [
      "2.0 20.0\n"
     ]
    }
   ],
   "source": [
    "s_lb = train.groupby(\"song_id\")['song_id'].value_counts().quantile(.50)\n",
    "s_ub = train.groupby(\"song_id\")['song_id'].value_counts().quantile(.90)\n",
    "print(s_lb, s_ub)"
   ]
  },
  {
   "cell_type": "code",
   "execution_count": 11,
   "metadata": {},
   "outputs": [
    {
     "name": "stdout",
     "output_type": "stream",
     "text": [
      "128.0 615.0\n"
     ]
    }
   ],
   "source": [
    "u_lb = train.groupby(\"msno\")['msno'].value_counts().quantile(.50)\n",
    "u_ub = train.groupby(\"msno\")['msno'].value_counts().quantile(.90)\n",
    "print(u_lb, u_ub)"
   ]
  },
  {
   "cell_type": "code",
   "execution_count": 12,
   "metadata": {},
   "outputs": [],
   "source": [
    "_ = train.groupby(\"song_id\").filter(lambda x: s_lb <= len(x) <= s_ub)\n",
    "valid_ratings = _.groupby(\"msno\").filter(lambda x: u_lb <= len(x) <= u_ub)"
   ]
  },
  {
   "cell_type": "code",
   "execution_count": 13,
   "metadata": {},
   "outputs": [
    {
     "data": {
      "text/html": [
       "<div>\n",
       "<style scoped>\n",
       "    .dataframe tbody tr th:only-of-type {\n",
       "        vertical-align: middle;\n",
       "    }\n",
       "\n",
       "    .dataframe tbody tr th {\n",
       "        vertical-align: top;\n",
       "    }\n",
       "\n",
       "    .dataframe thead th {\n",
       "        text-align: right;\n",
       "    }\n",
       "</style>\n",
       "<table border=\"1\" class=\"dataframe\">\n",
       "  <thead>\n",
       "    <tr style=\"text-align: right;\">\n",
       "      <th></th>\n",
       "      <th>msno</th>\n",
       "      <th>song_id</th>\n",
       "      <th>source_system_tab</th>\n",
       "      <th>source_screen_name</th>\n",
       "      <th>source_type</th>\n",
       "      <th>target</th>\n",
       "    </tr>\n",
       "  </thead>\n",
       "  <tbody>\n",
       "    <tr>\n",
       "      <th>10</th>\n",
       "      <td>uHqAtShXTRXju5GE8ri3ITsVFepPf8jUoCF7ffNOuqE=</td>\n",
       "      <td>t0aT90DlS1TGncgnKoL0SvfAWEr3Dl72QBVcokmKfLc=</td>\n",
       "      <td>my library</td>\n",
       "      <td>Local playlist more</td>\n",
       "      <td>local-library</td>\n",
       "      <td>1</td>\n",
       "    </tr>\n",
       "    <tr>\n",
       "      <th>77</th>\n",
       "      <td>yABGsFFqTctk/xnMj67nHmnisCwdue7XYxkYGOe9BGE=</td>\n",
       "      <td>RAVcXkNI6tqrsArzBxA9JcNnv/ftDwqDwBDaGqIzXyA=</td>\n",
       "      <td>my library</td>\n",
       "      <td>Local playlist more</td>\n",
       "      <td>local-library</td>\n",
       "      <td>1</td>\n",
       "    </tr>\n",
       "    <tr>\n",
       "      <th>78</th>\n",
       "      <td>yABGsFFqTctk/xnMj67nHmnisCwdue7XYxkYGOe9BGE=</td>\n",
       "      <td>ziioVtzot6FMViJgAMZliplvo7EmX3ecPuoZHXTr2Zo=</td>\n",
       "      <td>my library</td>\n",
       "      <td>Local playlist more</td>\n",
       "      <td>local-library</td>\n",
       "      <td>1</td>\n",
       "    </tr>\n",
       "    <tr>\n",
       "      <th>121</th>\n",
       "      <td>AXKTVBbdr2/z7m5WL1IXzlriNbun8B+7wM41MsWCYDw=</td>\n",
       "      <td>GopWs12UdPVQa3rEWVHv19FsoqHHsjo0il0Le89wN28=</td>\n",
       "      <td>discover</td>\n",
       "      <td>Discover Feature</td>\n",
       "      <td>album</td>\n",
       "      <td>0</td>\n",
       "    </tr>\n",
       "    <tr>\n",
       "      <th>122</th>\n",
       "      <td>AXKTVBbdr2/z7m5WL1IXzlriNbun8B+7wM41MsWCYDw=</td>\n",
       "      <td>8geiVKcfEd3jj9XiGb3hOVio3v0/BY8P29b2r3eo3Ps=</td>\n",
       "      <td>discover</td>\n",
       "      <td>Discover Feature</td>\n",
       "      <td>song-based-playlist</td>\n",
       "      <td>1</td>\n",
       "    </tr>\n",
       "    <tr>\n",
       "      <th>...</th>\n",
       "      <td>...</td>\n",
       "      <td>...</td>\n",
       "      <td>...</td>\n",
       "      <td>...</td>\n",
       "      <td>...</td>\n",
       "      <td>...</td>\n",
       "    </tr>\n",
       "    <tr>\n",
       "      <th>7377335</th>\n",
       "      <td>//4hBneqk/4/TtgL1XXQ+eKx7fJTeSvSNt0ktxjSIYE=</td>\n",
       "      <td>cjFcw6k2T1Loci4oAHn/Ob5b29zOSUqlTC6I1bodGF4=</td>\n",
       "      <td>search</td>\n",
       "      <td>Search</td>\n",
       "      <td>album</td>\n",
       "      <td>0</td>\n",
       "    </tr>\n",
       "    <tr>\n",
       "      <th>7377336</th>\n",
       "      <td>//4hBneqk/4/TtgL1XXQ+eKx7fJTeSvSNt0ktxjSIYE=</td>\n",
       "      <td>ZvQjd+l83+MnLmFIdIU264CfrtUBcKxOpr3UBBYp1Bk=</td>\n",
       "      <td>search</td>\n",
       "      <td>Search</td>\n",
       "      <td>album</td>\n",
       "      <td>1</td>\n",
       "    </tr>\n",
       "    <tr>\n",
       "      <th>7377337</th>\n",
       "      <td>//4hBneqk/4/TtgL1XXQ+eKx7fJTeSvSNt0ktxjSIYE=</td>\n",
       "      <td>9C/pDOdVTSuPd3uQFrlCRk1Ljk5oNTMSLklUU4lS//I=</td>\n",
       "      <td>search</td>\n",
       "      <td>Search</td>\n",
       "      <td>album</td>\n",
       "      <td>0</td>\n",
       "    </tr>\n",
       "    <tr>\n",
       "      <th>7377338</th>\n",
       "      <td>//4hBneqk/4/TtgL1XXQ+eKx7fJTeSvSNt0ktxjSIYE=</td>\n",
       "      <td>yeWoUcjnEnE3BI+bq0Gi94azpn5t6vBVThbbR/veh3g=</td>\n",
       "      <td>search</td>\n",
       "      <td>Search</td>\n",
       "      <td>album</td>\n",
       "      <td>0</td>\n",
       "    </tr>\n",
       "    <tr>\n",
       "      <th>7377340</th>\n",
       "      <td>//4hBneqk/4/TtgL1XXQ+eKx7fJTeSvSNt0ktxjSIYE=</td>\n",
       "      <td>lu7E716NnSKmad9WXY7pMMt4rd/eT5RlCUBvHNkkpVQ=</td>\n",
       "      <td>search</td>\n",
       "      <td>Search</td>\n",
       "      <td>album</td>\n",
       "      <td>0</td>\n",
       "    </tr>\n",
       "  </tbody>\n",
       "</table>\n",
       "<p>323061 rows × 6 columns</p>\n",
       "</div>"
      ],
      "text/plain": [
       "                                                 msno  \\\n",
       "10       uHqAtShXTRXju5GE8ri3ITsVFepPf8jUoCF7ffNOuqE=   \n",
       "77       yABGsFFqTctk/xnMj67nHmnisCwdue7XYxkYGOe9BGE=   \n",
       "78       yABGsFFqTctk/xnMj67nHmnisCwdue7XYxkYGOe9BGE=   \n",
       "121      AXKTVBbdr2/z7m5WL1IXzlriNbun8B+7wM41MsWCYDw=   \n",
       "122      AXKTVBbdr2/z7m5WL1IXzlriNbun8B+7wM41MsWCYDw=   \n",
       "...                                               ...   \n",
       "7377335  //4hBneqk/4/TtgL1XXQ+eKx7fJTeSvSNt0ktxjSIYE=   \n",
       "7377336  //4hBneqk/4/TtgL1XXQ+eKx7fJTeSvSNt0ktxjSIYE=   \n",
       "7377337  //4hBneqk/4/TtgL1XXQ+eKx7fJTeSvSNt0ktxjSIYE=   \n",
       "7377338  //4hBneqk/4/TtgL1XXQ+eKx7fJTeSvSNt0ktxjSIYE=   \n",
       "7377340  //4hBneqk/4/TtgL1XXQ+eKx7fJTeSvSNt0ktxjSIYE=   \n",
       "\n",
       "                                              song_id source_system_tab  \\\n",
       "10       t0aT90DlS1TGncgnKoL0SvfAWEr3Dl72QBVcokmKfLc=        my library   \n",
       "77       RAVcXkNI6tqrsArzBxA9JcNnv/ftDwqDwBDaGqIzXyA=        my library   \n",
       "78       ziioVtzot6FMViJgAMZliplvo7EmX3ecPuoZHXTr2Zo=        my library   \n",
       "121      GopWs12UdPVQa3rEWVHv19FsoqHHsjo0il0Le89wN28=          discover   \n",
       "122      8geiVKcfEd3jj9XiGb3hOVio3v0/BY8P29b2r3eo3Ps=          discover   \n",
       "...                                               ...               ...   \n",
       "7377335  cjFcw6k2T1Loci4oAHn/Ob5b29zOSUqlTC6I1bodGF4=            search   \n",
       "7377336  ZvQjd+l83+MnLmFIdIU264CfrtUBcKxOpr3UBBYp1Bk=            search   \n",
       "7377337  9C/pDOdVTSuPd3uQFrlCRk1Ljk5oNTMSLklUU4lS//I=            search   \n",
       "7377338  yeWoUcjnEnE3BI+bq0Gi94azpn5t6vBVThbbR/veh3g=            search   \n",
       "7377340  lu7E716NnSKmad9WXY7pMMt4rd/eT5RlCUBvHNkkpVQ=            search   \n",
       "\n",
       "          source_screen_name          source_type  target  \n",
       "10       Local playlist more        local-library       1  \n",
       "77       Local playlist more        local-library       1  \n",
       "78       Local playlist more        local-library       1  \n",
       "121         Discover Feature                album       0  \n",
       "122         Discover Feature  song-based-playlist       1  \n",
       "...                      ...                  ...     ...  \n",
       "7377335               Search                album       0  \n",
       "7377336               Search                album       1  \n",
       "7377337               Search                album       0  \n",
       "7377338               Search                album       0  \n",
       "7377340               Search                album       0  \n",
       "\n",
       "[323061 rows x 6 columns]"
      ]
     },
     "execution_count": 13,
     "metadata": {},
     "output_type": "execute_result"
    }
   ],
   "source": [
    "valid_ratings"
   ]
  },
  {
   "cell_type": "code",
   "execution_count": 14,
   "metadata": {},
   "outputs": [],
   "source": [
    "valid_train, valid_test = train_test_split(\n",
    "    valid_ratings,\n",
    "    train_size=0.8,\n",
    "    stratify=valid_ratings[\"msno\"],\n",
    "    random_state=42,\n",
    ")"
   ]
  },
  {
   "cell_type": "code",
   "execution_count": 15,
   "metadata": {},
   "outputs": [
    {
     "data": {
      "text/plain": [
       "(1480, 118079)"
      ]
     },
     "execution_count": 15,
     "metadata": {},
     "output_type": "execute_result"
    }
   ],
   "source": [
    "valid_train['msno'].nunique(), valid_train['song_id'].nunique()"
   ]
  },
  {
   "cell_type": "code",
   "execution_count": 16,
   "metadata": {},
   "outputs": [],
   "source": [
    "reader = Reader(rating_scale=(0, 1))\n",
    "\n",
    "data_train = DatasetAutoFolds(\n",
    "    reader=reader,\n",
    "    df=valid_train[[\"msno\", \"song_id\", \"target\"]],\n",
    ").build_full_trainset()\n",
    "_raw_data_train = DatasetAutoFolds(\n",
    "    reader=reader, df=valid_train[[\"msno\", \"song_id\", \"target\"]]\n",
    ")"
   ]
  },
  {
   "cell_type": "code",
   "execution_count": 17,
   "metadata": {},
   "outputs": [],
   "source": [
    "param_grid = {\n",
    "    \"n_factors\": [50, 100, 150],\n",
    "    \"biased\": [True],\n",
    "    \"lr_all\": [0.001, 0.005, 0.01, 0.015],\n",
    "    \"reg_all\": [0.005, 0.01, 0.05, 0.1],\n",
    "    \"n_epochs\": [10],\n",
    "}\n",
    "\n",
    "gs = GridSearchCV(\n",
    "    SVD,\n",
    "    param_grid,\n",
    "    measures=[\"mae\", \"mse\"],\n",
    "    cv=5,\n",
    "    refit=True,\n",
    "    n_jobs=-1,\n",
    "    joblib_verbose=5,\n",
    ")"
   ]
  },
  {
   "cell_type": "code",
   "execution_count": 18,
   "metadata": {},
   "outputs": [
    {
     "name": "stderr",
     "output_type": "stream",
     "text": [
      "[Parallel(n_jobs=-1)]: Using backend LokyBackend with 16 concurrent workers.\n",
      "[Parallel(n_jobs=-1)]: Done  40 tasks      | elapsed:   12.9s\n",
      "[Parallel(n_jobs=-1)]: Done 130 tasks      | elapsed:   39.6s\n",
      "[Parallel(n_jobs=-1)]: Done 240 out of 240 | elapsed:  1.3min finished\n"
     ]
    }
   ],
   "source": [
    "gs.fit(_raw_data_train)"
   ]
  },
  {
   "cell_type": "code",
   "execution_count": 19,
   "metadata": {},
   "outputs": [
    {
     "data": {
      "text/html": [
       "<div>\n",
       "<style scoped>\n",
       "    .dataframe tbody tr th:only-of-type {\n",
       "        vertical-align: middle;\n",
       "    }\n",
       "\n",
       "    .dataframe tbody tr th {\n",
       "        vertical-align: top;\n",
       "    }\n",
       "\n",
       "    .dataframe thead th {\n",
       "        text-align: right;\n",
       "    }\n",
       "</style>\n",
       "<table border=\"1\" class=\"dataframe\">\n",
       "  <thead>\n",
       "    <tr style=\"text-align: right;\">\n",
       "      <th></th>\n",
       "      <th>mean_test_mae</th>\n",
       "      <th>std_test_mae</th>\n",
       "      <th>mean_test_mse</th>\n",
       "      <th>std_test_mse</th>\n",
       "      <th>params</th>\n",
       "    </tr>\n",
       "  </thead>\n",
       "  <tbody>\n",
       "    <tr>\n",
       "      <th>7</th>\n",
       "      <td>0.411953</td>\n",
       "      <td>0.000534</td>\n",
       "      <td>0.205012</td>\n",
       "      <td>0.000672</td>\n",
       "      <td>{'n_factors': 50, 'biased': True, 'lr_all': 0....</td>\n",
       "    </tr>\n",
       "    <tr>\n",
       "      <th>6</th>\n",
       "      <td>0.408916</td>\n",
       "      <td>0.000488</td>\n",
       "      <td>0.205698</td>\n",
       "      <td>0.000683</td>\n",
       "      <td>{'n_factors': 50, 'biased': True, 'lr_all': 0....</td>\n",
       "    </tr>\n",
       "    <tr>\n",
       "      <th>11</th>\n",
       "      <td>0.411375</td>\n",
       "      <td>0.000572</td>\n",
       "      <td>0.205948</td>\n",
       "      <td>0.000728</td>\n",
       "      <td>{'n_factors': 50, 'biased': True, 'lr_all': 0....</td>\n",
       "    </tr>\n",
       "    <tr>\n",
       "      <th>23</th>\n",
       "      <td>0.412354</td>\n",
       "      <td>0.000498</td>\n",
       "      <td>0.205980</td>\n",
       "      <td>0.000600</td>\n",
       "      <td>{'n_factors': 100, 'biased': True, 'lr_all': 0...</td>\n",
       "    </tr>\n",
       "    <tr>\n",
       "      <th>27</th>\n",
       "      <td>0.411626</td>\n",
       "      <td>0.000574</td>\n",
       "      <td>0.206358</td>\n",
       "      <td>0.000721</td>\n",
       "      <td>{'n_factors': 100, 'biased': True, 'lr_all': 0...</td>\n",
       "    </tr>\n",
       "    <tr>\n",
       "      <th>10</th>\n",
       "      <td>0.408222</td>\n",
       "      <td>0.000478</td>\n",
       "      <td>0.206589</td>\n",
       "      <td>0.000700</td>\n",
       "      <td>{'n_factors': 50, 'biased': True, 'lr_all': 0....</td>\n",
       "    </tr>\n",
       "    <tr>\n",
       "      <th>43</th>\n",
       "      <td>0.411957</td>\n",
       "      <td>0.000511</td>\n",
       "      <td>0.206788</td>\n",
       "      <td>0.000662</td>\n",
       "      <td>{'n_factors': 150, 'biased': True, 'lr_all': 0...</td>\n",
       "    </tr>\n",
       "    <tr>\n",
       "      <th>39</th>\n",
       "      <td>0.412690</td>\n",
       "      <td>0.000406</td>\n",
       "      <td>0.206889</td>\n",
       "      <td>0.000585</td>\n",
       "      <td>{'n_factors': 150, 'biased': True, 'lr_all': 0...</td>\n",
       "    </tr>\n",
       "    <tr>\n",
       "      <th>5</th>\n",
       "      <td>0.406655</td>\n",
       "      <td>0.000464</td>\n",
       "      <td>0.207226</td>\n",
       "      <td>0.000601</td>\n",
       "      <td>{'n_factors': 50, 'biased': True, 'lr_all': 0....</td>\n",
       "    </tr>\n",
       "    <tr>\n",
       "      <th>4</th>\n",
       "      <td>0.406154</td>\n",
       "      <td>0.000505</td>\n",
       "      <td>0.207337</td>\n",
       "      <td>0.000690</td>\n",
       "      <td>{'n_factors': 50, 'biased': True, 'lr_all': 0....</td>\n",
       "    </tr>\n",
       "  </tbody>\n",
       "</table>\n",
       "</div>"
      ],
      "text/plain": [
       "    mean_test_mae  std_test_mae  mean_test_mse  std_test_mse  \\\n",
       "7        0.411953      0.000534       0.205012      0.000672   \n",
       "6        0.408916      0.000488       0.205698      0.000683   \n",
       "11       0.411375      0.000572       0.205948      0.000728   \n",
       "23       0.412354      0.000498       0.205980      0.000600   \n",
       "27       0.411626      0.000574       0.206358      0.000721   \n",
       "10       0.408222      0.000478       0.206589      0.000700   \n",
       "43       0.411957      0.000511       0.206788      0.000662   \n",
       "39       0.412690      0.000406       0.206889      0.000585   \n",
       "5        0.406655      0.000464       0.207226      0.000601   \n",
       "4        0.406154      0.000505       0.207337      0.000690   \n",
       "\n",
       "                                               params  \n",
       "7   {'n_factors': 50, 'biased': True, 'lr_all': 0....  \n",
       "6   {'n_factors': 50, 'biased': True, 'lr_all': 0....  \n",
       "11  {'n_factors': 50, 'biased': True, 'lr_all': 0....  \n",
       "23  {'n_factors': 100, 'biased': True, 'lr_all': 0...  \n",
       "27  {'n_factors': 100, 'biased': True, 'lr_all': 0...  \n",
       "10  {'n_factors': 50, 'biased': True, 'lr_all': 0....  \n",
       "43  {'n_factors': 150, 'biased': True, 'lr_all': 0...  \n",
       "39  {'n_factors': 150, 'biased': True, 'lr_all': 0...  \n",
       "5   {'n_factors': 50, 'biased': True, 'lr_all': 0....  \n",
       "4   {'n_factors': 50, 'biased': True, 'lr_all': 0....  "
      ]
     },
     "execution_count": 19,
     "metadata": {},
     "output_type": "execute_result"
    }
   ],
   "source": [
    "df = pd.DataFrame(gs.cv_results)\n",
    "df_final = df[\n",
    "    [\n",
    "        \"mean_test_mae\",\n",
    "        \"std_test_mae\",\n",
    "        \"mean_test_mse\",\n",
    "        \"std_test_mse\",\n",
    "        \"params\",\n",
    "    ]\n",
    "]\n",
    "df_final.sort_values(\"mean_test_mse\", ascending=True).head(10)"
   ]
  },
  {
   "cell_type": "code",
   "execution_count": 20,
   "metadata": {},
   "outputs": [
    {
     "data": {
      "text/plain": [
       "({'mae': {'n_factors': 50,\n",
       "   'biased': True,\n",
       "   'lr_all': 0.015,\n",
       "   'reg_all': 0.005,\n",
       "   'n_epochs': 10},\n",
       "  'mse': {'n_factors': 50,\n",
       "   'biased': True,\n",
       "   'lr_all': 0.005,\n",
       "   'reg_all': 0.1,\n",
       "   'n_epochs': 10}},\n",
       " {'mae': 0.40531259467233915, 'mse': 0.20501227722824047})"
      ]
     },
     "execution_count": 20,
     "metadata": {},
     "output_type": "execute_result"
    }
   ],
   "source": [
    "gs.best_params, gs.best_score"
   ]
  },
  {
   "cell_type": "code",
   "execution_count": 21,
   "metadata": {},
   "outputs": [
    {
     "name": "stdout",
     "output_type": "stream",
     "text": [
      " FCP: 0.4897747905125702\n",
      " MAE: 0.4049779672132088\n",
      " MSE: 0.2131150180076361\n",
      "RMSE: 0.46164382158503553\n"
     ]
    }
   ],
   "source": [
    "#! Optimmized for MSE\n",
    "\n",
    "_data_test = (\n",
    "    DatasetAutoFolds(\n",
    "        reader=reader,\n",
    "        df=valid_test[[\"msno\", \"song_id\", \"target\"]],\n",
    "    )\n",
    "    .build_full_trainset()\n",
    "    .build_testset()\n",
    ")\n",
    "\n",
    "gs_r = gs.test(_data_test)\n",
    "print(f\" FCP: {fcp(gs_r,verbose=False)}\")\n",
    "print(f\" MAE: {mae(gs_r,verbose=False)}\")\n",
    "print(f\" MSE: {mse(gs_r,verbose=False)}\")\n",
    "print(f\"RMSE: {rmse(gs_r,verbose=False)}\")"
   ]
  },
  {
   "cell_type": "code",
   "execution_count": 26,
   "metadata": {},
   "outputs": [
    {
     "name": "stdout",
     "output_type": "stream",
     "text": [
      "User: vJW9mmXL4ScyBC3Ubt/iHoQv6I5/Aw/LdWeQVooMvt0=\n",
      "Precision:  0.7105263157894737\n",
      "Recall:     0.8571428571428571\n",
      "\n",
      "==================================\n",
      "\n"
     ]
    }
   ],
   "source": [
    "def get_metrics(usr):\n",
    "        tdf = valid_test[valid_test[\"msno\"] == usr]\n",
    "        subs = []\n",
    "\n",
    "        for i in range(len(tdf)):\n",
    "                msno_, song_id_, trgt = tdf.iloc[i][[\"msno\", \"song_id\", \"target\"]]\n",
    "                pred = gs.predict(msno_, song_id_).est\n",
    "                subs.append((trgt, pred))\n",
    "\n",
    "        m = np.mean([i[1] for i in subs])\n",
    "        final_subs = []\n",
    "        for i in subs:\n",
    "            if i[1] > m:\n",
    "                final_subs.append((i[0], 1))\n",
    "            else:\n",
    "                final_subs.append((i[0], 0))\n",
    "\n",
    "        n = len(final_subs)\n",
    "        not_accurate_pre = 0\n",
    "        for i in final_subs:\n",
    "            not_accurate_pre += (i[0] ^ i[1])\n",
    "\n",
    "        \n",
    "        not_accurate_re = 0\n",
    "        usr_pref = [i for i in final_subs if i[0] == 1]\n",
    "        npref = len(usr_pref)\n",
    "        for i in usr_pref:\n",
    "            not_accurate_re += (i[0] ^ i[1])\n",
    "        \n",
    "        print(f\"User: {usr}\")\n",
    "        print(\"Precision: \", (n-not_accurate_pre)/n)\n",
    "        if npref == 0:\n",
    "            print(\"Recall:    \", \"No items liked by user\")\n",
    "        else:\n",
    "            print(\"Recall:    \", (npref-not_accurate_re)/npref)\n",
    "        print(\"\\n==================================\\n\")\n",
    "\n",
    "        \n",
    "usr = \"vJW9mmXL4ScyBC3Ubt/iHoQv6I5/Aw/LdWeQVooMvt0=\"\n",
    "get_metrics(usr)"
   ]
  },
  {
   "cell_type": "code",
   "execution_count": null,
   "metadata": {},
   "outputs": [],
   "source": []
  }
 ],
 "metadata": {
  "kernelspec": {
   "display_name": "venv11",
   "language": "python",
   "name": "python3"
  },
  "language_info": {
   "codemirror_mode": {
    "name": "ipython",
    "version": 3
   },
   "file_extension": ".py",
   "mimetype": "text/x-python",
   "name": "python",
   "nbconvert_exporter": "python",
   "pygments_lexer": "ipython3",
   "version": "3.11.4"
  }
 },
 "nbformat": 4,
 "nbformat_minor": 2
}
